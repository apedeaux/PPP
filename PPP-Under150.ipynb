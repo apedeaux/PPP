{
 "cells": [
  {
   "cell_type": "code",
   "execution_count": 1,
   "metadata": {
    "scrolled": true
   },
   "outputs": [],
   "source": [
    "import pandas as pd\n",
    "import requests\n",
    "import json\n",
    "import seaborn as sns"
   ]
  },
  {
   "cell_type": "code",
   "execution_count": 2,
   "metadata": {
    "scrolled": true
   },
   "outputs": [],
   "source": [
    "import matplotlib.pyplot as plt"
   ]
  },
  {
   "cell_type": "code",
   "execution_count": 3,
   "metadata": {
    "collapsed": true
   },
   "outputs": [],
   "source": [
    "mt150 = pd.read_csv('C:/Users/Aaron/Documents/ML_Udacity/PPP/All Data by State/All Data by State/150k plus/PPP Data 150k plus.csv')"
   ]
  },
  {
   "cell_type": "code",
   "execution_count": 4,
   "metadata": {},
   "outputs": [
    {
     "name": "stdout",
     "output_type": "stream",
     "text": [
      "Data Set: PPP More than $150k \n",
      "Rows: 661218\n",
      "Cols: 16\n"
     ]
    }
   ],
   "source": [
    "print(\"Data Set: PPP More than $150k \\nRows: {}\\nCols: {}\".format(mt150.shape[0], mt150.shape[1]))"
   ]
  },
  {
   "cell_type": "code",
   "execution_count": 16,
   "metadata": {},
   "outputs": [],
   "source": [
    "# mt150.head()"
   ]
  },
  {
   "cell_type": "code",
   "execution_count": 6,
   "metadata": {
    "collapsed": true
   },
   "outputs": [],
   "source": [
    "# Creates a new column 'NAICSCode_int' which converts 'NAICSCode' into integer.\n",
    "\n",
    "mt150['NAICSCode_int'] = mt150['NAICSCode'].fillna('0').astype('int')"
   ]
  },
  {
   "cell_type": "code",
   "execution_count": 7,
   "metadata": {
    "collapsed": true
   },
   "outputs": [],
   "source": [
    "def get_naics(naicscode):\n",
    "    '''Requests NAICS api to retrieve code title.'''\n",
    "    \n",
    "    page = requests.get(\"http://api.naics.us/v0/q?year=2012&code={}\".format(naicscode))\n",
    "    naicspage = json.loads(page.content)\n",
    "    try:\n",
    "        title = naicspage['title']\n",
    "    except:\n",
    "        title = 'NAICS Not Found'\n",
    "    return title"
   ]
  },
  {
   "cell_type": "code",
   "execution_count": null,
   "metadata": {
    "collapsed": true,
    "scrolled": true
   },
   "outputs": [],
   "source": [
    "## get_naics(mt150['NAICSCode_int'][0])"
   ]
  },
  {
   "cell_type": "code",
   "execution_count": null,
   "metadata": {
    "collapsed": true,
    "scrolled": false
   },
   "outputs": [],
   "source": [
    "# Retrieve all NAICS Titles\n",
    "\n",
    "# mt150['NAICS_title'] = mt150['NAICSCode_int'].apply(lambda x: get_naics(x))"
   ]
  },
  {
   "cell_type": "code",
   "execution_count": 8,
   "metadata": {},
   "outputs": [
    {
     "name": "stdout",
     "output_type": "stream",
     "text": [
      "Wall time: 5.86 s\n"
     ]
    }
   ],
   "source": [
    "%%time\n",
    "top50try = mt150['NAICSCode_int'][:50].apply(lambda x: get_naics(x))"
   ]
  },
  {
   "cell_type": "code",
   "execution_count": 9,
   "metadata": {},
   "outputs": [
    {
     "name": "stdout",
     "output_type": "stream",
     "text": [
      "Would take 19.432462333333334 hours to retrieve all NAICS titles.\n"
     ]
    }
   ],
   "source": [
    "print('Would take {} hours to retrieve all NAICS titles.'.format(((mt150.shape[0] / 50) * 5.29) /3600))"
   ]
  },
  {
   "cell_type": "code",
   "execution_count": null,
   "metadata": {
    "collapsed": true,
    "scrolled": true
   },
   "outputs": [],
   "source": [
    "# mt150.groupby('NAICSCode_int')['BusinessName'].nunique().sort_values(ascending=False)[:20]"
   ]
  },
  {
   "cell_type": "code",
   "execution_count": 10,
   "metadata": {
    "collapsed": true
   },
   "outputs": [],
   "source": [
    "# Create new frame with only unique NAICS codes.\n",
    "\n",
    "uqNAICSCodes = pd.DataFrame(mt150['NAICSCode_int'].unique(), columns=['NAICSCode_int'])"
   ]
  },
  {
   "cell_type": "code",
   "execution_count": 11,
   "metadata": {},
   "outputs": [
    {
     "name": "stdout",
     "output_type": "stream",
     "text": [
      "Wall time: 2min 42s\n"
     ]
    }
   ],
   "source": [
    "%%time\n",
    "# Retrieve titles for Unique NAICS codes.\n",
    "\n",
    "uqNAICSCodes['titles'] = uqNAICSCodes['NAICSCode_int'].apply(lambda x: get_naics(x))"
   ]
  },
  {
   "cell_type": "code",
   "execution_count": 12,
   "metadata": {
    "collapsed": true
   },
   "outputs": [],
   "source": [
    "# Merge Unique titles into main frame. \n",
    "\n",
    "mt150 = mt150.merge(uqNAICSCodes, on='NAICSCode_int')"
   ]
  },
  {
   "cell_type": "code",
   "execution_count": 13,
   "metadata": {
    "collapsed": true
   },
   "outputs": [],
   "source": [
    "# Split LoanRange into two: LoanCategory and LoanRange\n",
    "\n",
    "mt150[['LoanCategory', 'LoanRange']] = mt150['LoanRange'].str.split(' ', 1, expand=True)"
   ]
  },
  {
   "cell_type": "code",
   "execution_count": 18,
   "metadata": {
    "scrolled": true
   },
   "outputs": [
    {
     "data": {
      "text/html": [
       "<div>\n",
       "<style scoped>\n",
       "    .dataframe tbody tr th:only-of-type {\n",
       "        vertical-align: middle;\n",
       "    }\n",
       "\n",
       "    .dataframe tbody tr th {\n",
       "        vertical-align: top;\n",
       "    }\n",
       "\n",
       "    .dataframe thead th {\n",
       "        text-align: right;\n",
       "    }\n",
       "</style>\n",
       "<table border=\"1\" class=\"dataframe\">\n",
       "  <thead>\n",
       "    <tr style=\"text-align: right;\">\n",
       "      <th></th>\n",
       "      <th>BusinessName</th>\n",
       "      <th>LoanCategory</th>\n",
       "    </tr>\n",
       "    <tr>\n",
       "      <th>titles</th>\n",
       "      <th></th>\n",
       "      <th></th>\n",
       "    </tr>\n",
       "  </thead>\n",
       "  <tbody>\n",
       "    <tr>\n",
       "      <th>Full-Service Restaurants</th>\n",
       "      <td>33608</td>\n",
       "      <td>33608</td>\n",
       "    </tr>\n",
       "    <tr>\n",
       "      <th>Offices of Physicians (except Mental Health Specialists)</th>\n",
       "      <td>20932</td>\n",
       "      <td>20932</td>\n",
       "    </tr>\n",
       "    <tr>\n",
       "      <th>NAICS Not Found</th>\n",
       "      <td>15674</td>\n",
       "      <td>15675</td>\n",
       "    </tr>\n",
       "    <tr>\n",
       "      <th>Offices of Lawyers</th>\n",
       "      <td>14310</td>\n",
       "      <td>14310</td>\n",
       "    </tr>\n",
       "    <tr>\n",
       "      <th>Plumbing, Heating, and Air-Conditioning Contractors</th>\n",
       "      <td>13140</td>\n",
       "      <td>13140</td>\n",
       "    </tr>\n",
       "    <tr>\n",
       "      <th>New Car Dealers</th>\n",
       "      <td>12694</td>\n",
       "      <td>12694</td>\n",
       "    </tr>\n",
       "    <tr>\n",
       "      <th>Commercial and Institutional Building Construction</th>\n",
       "      <td>10942</td>\n",
       "      <td>10942</td>\n",
       "    </tr>\n",
       "    <tr>\n",
       "      <th>Religious Organizations</th>\n",
       "      <td>10681</td>\n",
       "      <td>10681</td>\n",
       "    </tr>\n",
       "    <tr>\n",
       "      <th>Offices of Dentists</th>\n",
       "      <td>10627</td>\n",
       "      <td>10627</td>\n",
       "    </tr>\n",
       "    <tr>\n",
       "      <th>Limited-Service Restaurants</th>\n",
       "      <td>10207</td>\n",
       "      <td>10207</td>\n",
       "    </tr>\n",
       "    <tr>\n",
       "      <th>Electrical Contractors and Other Wiring Installation Contractors</th>\n",
       "      <td>9885</td>\n",
       "      <td>9886</td>\n",
       "    </tr>\n",
       "    <tr>\n",
       "      <th>Engineering Services</th>\n",
       "      <td>8412</td>\n",
       "      <td>8412</td>\n",
       "    </tr>\n",
       "    <tr>\n",
       "      <th>Hotels (except Casino Hotels) and Motels</th>\n",
       "      <td>8118</td>\n",
       "      <td>8118</td>\n",
       "    </tr>\n",
       "    <tr>\n",
       "      <th>Elementary and Secondary Schools</th>\n",
       "      <td>7429</td>\n",
       "      <td>7430</td>\n",
       "    </tr>\n",
       "    <tr>\n",
       "      <th>Home Health Care Services</th>\n",
       "      <td>7407</td>\n",
       "      <td>7407</td>\n",
       "    </tr>\n",
       "    <tr>\n",
       "      <th>All Other Specialty Trade Contractors</th>\n",
       "      <td>7117</td>\n",
       "      <td>7117</td>\n",
       "    </tr>\n",
       "    <tr>\n",
       "      <th>Custom Computer Programming Services</th>\n",
       "      <td>6410</td>\n",
       "      <td>6410</td>\n",
       "    </tr>\n",
       "    <tr>\n",
       "      <th>Nursing Care Facilities (Skilled Nursing Facilities)</th>\n",
       "      <td>6248</td>\n",
       "      <td>6248</td>\n",
       "    </tr>\n",
       "    <tr>\n",
       "      <th>All Other Professional, Scientific, and Technical Services</th>\n",
       "      <td>5625</td>\n",
       "      <td>5625</td>\n",
       "    </tr>\n",
       "    <tr>\n",
       "      <th>Landscaping Services</th>\n",
       "      <td>5227</td>\n",
       "      <td>5227</td>\n",
       "    </tr>\n",
       "    <tr>\n",
       "      <th>General Freight Trucking, Local</th>\n",
       "      <td>5029</td>\n",
       "      <td>5029</td>\n",
       "    </tr>\n",
       "    <tr>\n",
       "      <th>New Single-Family Housing Construction (except For-Sale Builders)</th>\n",
       "      <td>5007</td>\n",
       "      <td>5007</td>\n",
       "    </tr>\n",
       "    <tr>\n",
       "      <th>Insurance Agencies and Brokerages</th>\n",
       "      <td>4667</td>\n",
       "      <td>4667</td>\n",
       "    </tr>\n",
       "    <tr>\n",
       "      <th>Administrative Management and General Management Consulting Services</th>\n",
       "      <td>4545</td>\n",
       "      <td>4545</td>\n",
       "    </tr>\n",
       "    <tr>\n",
       "      <th>All Other Miscellaneous Store Retailers (except Tobacco Stores)</th>\n",
       "      <td>4310</td>\n",
       "      <td>4310</td>\n",
       "    </tr>\n",
       "  </tbody>\n",
       "</table>\n",
       "</div>"
      ],
      "text/plain": [
       "                                                    BusinessName  LoanCategory\n",
       "titles                                                                        \n",
       "Full-Service Restaurants                                   33608         33608\n",
       "Offices of Physicians (except Mental Health Spe...         20932         20932\n",
       "NAICS Not Found                                            15674         15675\n",
       "Offices of Lawyers                                         14310         14310\n",
       "Plumbing, Heating, and Air-Conditioning Contrac...         13140         13140\n",
       "New Car Dealers                                            12694         12694\n",
       "Commercial and Institutional Building Construction         10942         10942\n",
       "Religious Organizations                                    10681         10681\n",
       "Offices of Dentists                                        10627         10627\n",
       "Limited-Service Restaurants                                10207         10207\n",
       "Electrical Contractors and Other Wiring Install...          9885          9886\n",
       "Engineering Services                                        8412          8412\n",
       "Hotels (except Casino Hotels) and Motels                    8118          8118\n",
       "Elementary and Secondary Schools                            7429          7430\n",
       "Home Health Care Services                                   7407          7407\n",
       "All Other Specialty Trade Contractors                       7117          7117\n",
       "Custom Computer Programming Services                        6410          6410\n",
       "Nursing Care Facilities (Skilled Nursing Facili...          6248          6248\n",
       "All Other Professional, Scientific, and Technic...          5625          5625\n",
       "Landscaping Services                                        5227          5227\n",
       "General Freight Trucking, Local                             5029          5029\n",
       "New Single-Family Housing Construction (except ...          5007          5007\n",
       "Insurance Agencies and Brokerages                           4667          4667\n",
       "Administrative Management and General Managemen...          4545          4545\n",
       "All Other Miscellaneous Store Retailers (except...          4310          4310"
      ]
     },
     "execution_count": 18,
     "metadata": {},
     "output_type": "execute_result"
    }
   ],
   "source": [
    "pd.DataFrame(mt150.groupby('titles')[['BusinessName', 'LoanCategory']].count().sort_values(by='BusinessName', ascending=False))[:25]"
   ]
  },
  {
   "cell_type": "code",
   "execution_count": 19,
   "metadata": {},
   "outputs": [
    {
     "data": {
      "text/html": [
       "<div>\n",
       "<style scoped>\n",
       "    .dataframe tbody tr th:only-of-type {\n",
       "        vertical-align: middle;\n",
       "    }\n",
       "\n",
       "    .dataframe tbody tr th {\n",
       "        vertical-align: top;\n",
       "    }\n",
       "\n",
       "    .dataframe thead th {\n",
       "        text-align: right;\n",
       "    }\n",
       "</style>\n",
       "<table border=\"1\" class=\"dataframe\">\n",
       "  <thead>\n",
       "    <tr style=\"text-align: right;\">\n",
       "      <th></th>\n",
       "      <th></th>\n",
       "      <th>BusinessName</th>\n",
       "    </tr>\n",
       "    <tr>\n",
       "      <th>titles</th>\n",
       "      <th>LoanRange</th>\n",
       "      <th></th>\n",
       "    </tr>\n",
       "  </thead>\n",
       "  <tbody>\n",
       "    <tr>\n",
       "      <th rowspan=\"5\" valign=\"top\">Abrasive Product Manufacturing</th>\n",
       "      <th>$1-2 million</th>\n",
       "      <td>7</td>\n",
       "    </tr>\n",
       "    <tr>\n",
       "      <th>$150,000-350,000</th>\n",
       "      <td>42</td>\n",
       "    </tr>\n",
       "    <tr>\n",
       "      <th>$2-5 million</th>\n",
       "      <td>7</td>\n",
       "    </tr>\n",
       "    <tr>\n",
       "      <th>$350,000-1 million</th>\n",
       "      <td>31</td>\n",
       "    </tr>\n",
       "    <tr>\n",
       "      <th>$5-10 million</th>\n",
       "      <td>1</td>\n",
       "    </tr>\n",
       "  </tbody>\n",
       "</table>\n",
       "</div>"
      ],
      "text/plain": [
       "                                                   BusinessName\n",
       "titles                         LoanRange                       \n",
       "Abrasive Product Manufacturing $1-2 million                   7\n",
       "                               $150,000-350,000              42\n",
       "                               $2-5 million                   7\n",
       "                               $350,000-1 million            31\n",
       "                               $5-10 million                  1"
      ]
     },
     "execution_count": 19,
     "metadata": {},
     "output_type": "execute_result"
    }
   ],
   "source": [
    "catplot_frame = pd.DataFrame(mt150.groupby(['titles', 'LoanRange']).agg({'BusinessName': 'count'}))\n",
    "catplot_frame.head()"
   ]
  },
  {
   "cell_type": "code",
   "execution_count": 21,
   "metadata": {},
   "outputs": [],
   "source": [
    "# sns.catplot(x = \"LoanRange\", y = \"BuinessName\", col = \"titles\")"
   ]
  },
  {
   "cell_type": "code",
   "execution_count": 15,
   "metadata": {},
   "outputs": [],
   "source": [
    "# mt150.head()"
   ]
  },
  {
   "cell_type": "code",
   "execution_count": null,
   "metadata": {
    "collapsed": true
   },
   "outputs": [],
   "source": []
  },
  {
   "cell_type": "code",
   "execution_count": null,
   "metadata": {
    "collapsed": true
   },
   "outputs": [],
   "source": [
    "# mt150.loc[mt150['City'] == 'NEW ORLEANS']"
   ]
  },
  {
   "cell_type": "code",
   "execution_count": null,
   "metadata": {
    "collapsed": true
   },
   "outputs": [],
   "source": []
  },
  {
   "cell_type": "code",
   "execution_count": null,
   "metadata": {
    "collapsed": true
   },
   "outputs": [],
   "source": [
    "## Francisco recommends:\n",
    "##    folium"
   ]
  }
 ],
 "metadata": {
  "kernelspec": {
   "display_name": "Python 3",
   "language": "python",
   "name": "python3"
  },
  "language_info": {
   "codemirror_mode": {
    "name": "ipython",
    "version": 3
   },
   "file_extension": ".py",
   "mimetype": "text/x-python",
   "name": "python",
   "nbconvert_exporter": "python",
   "pygments_lexer": "ipython3",
   "version": "3.6.2"
  }
 },
 "nbformat": 4,
 "nbformat_minor": 2
}
