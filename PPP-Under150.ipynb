{
 "cells": [
  {
   "cell_type": "code",
   "execution_count": null,
   "metadata": {
    "collapsed": true
   },
   "outputs": [],
   "source": [
    "!pip uninstall matplotlib"
   ]
  },
  {
   "cell_type": "code",
   "execution_count": null,
   "metadata": {},
   "outputs": [],
   "source": [
    "!pip install matplotlib"
   ]
  },
  {
   "cell_type": "code",
   "execution_count": 1,
   "metadata": {
    "scrolled": true
   },
   "outputs": [],
   "source": [
    "import pandas as pd\n",
    "import requests\n",
    "import json\n",
    "import seaborn as sns"
   ]
  },
  {
   "cell_type": "code",
   "execution_count": 2,
   "metadata": {
    "scrolled": true
   },
   "outputs": [],
   "source": [
    "import matplotlib.pyplot as plt"
   ]
  },
  {
   "cell_type": "code",
   "execution_count": 3,
   "metadata": {
    "collapsed": true
   },
   "outputs": [],
   "source": [
    "mt150 = pd.read_csv('C:/Users/Aaron/Documents/ML_Udacity/PPP/All Data by State/All Data by State/150k plus/PPP Data 150k plus.csv')"
   ]
  },
  {
   "cell_type": "code",
   "execution_count": 4,
   "metadata": {},
   "outputs": [
    {
     "name": "stdout",
     "output_type": "stream",
     "text": [
      "Data Set: PPP More than $150k \n",
      "Rows: 661218\n",
      "Cols: 16\n"
     ]
    }
   ],
   "source": [
    "print(\"Data Set: PPP More than $150k \\nRows: {}\\nCols: {}\".format(mt150.shape[0], mt150.shape[1]))"
   ]
  },
  {
   "cell_type": "code",
   "execution_count": 5,
   "metadata": {},
   "outputs": [
    {
     "data": {
      "text/html": [
       "<div>\n",
       "<style scoped>\n",
       "    .dataframe tbody tr th:only-of-type {\n",
       "        vertical-align: middle;\n",
       "    }\n",
       "\n",
       "    .dataframe tbody tr th {\n",
       "        vertical-align: top;\n",
       "    }\n",
       "\n",
       "    .dataframe thead th {\n",
       "        text-align: right;\n",
       "    }\n",
       "</style>\n",
       "<table border=\"1\" class=\"dataframe\">\n",
       "  <thead>\n",
       "    <tr style=\"text-align: right;\">\n",
       "      <th></th>\n",
       "      <th>LoanRange</th>\n",
       "      <th>BusinessName</th>\n",
       "      <th>Address</th>\n",
       "      <th>City</th>\n",
       "      <th>State</th>\n",
       "      <th>Zip</th>\n",
       "      <th>NAICSCode</th>\n",
       "      <th>BusinessType</th>\n",
       "      <th>RaceEthnicity</th>\n",
       "      <th>Gender</th>\n",
       "      <th>Veteran</th>\n",
       "      <th>NonProfit</th>\n",
       "      <th>JobsRetained</th>\n",
       "      <th>DateApproved</th>\n",
       "      <th>Lender</th>\n",
       "      <th>CD</th>\n",
       "    </tr>\n",
       "  </thead>\n",
       "  <tbody>\n",
       "    <tr>\n",
       "      <th>0</th>\n",
       "      <td>a $5-10 million</td>\n",
       "      <td>ARCTIC SLOPE NATIVE ASSOCIATION, LTD.</td>\n",
       "      <td>7000 Uula St</td>\n",
       "      <td>BARROW</td>\n",
       "      <td>AK</td>\n",
       "      <td>99723.0</td>\n",
       "      <td>813920.0</td>\n",
       "      <td>Non-Profit Organization</td>\n",
       "      <td>Unanswered</td>\n",
       "      <td>Unanswered</td>\n",
       "      <td>Unanswered</td>\n",
       "      <td>Y</td>\n",
       "      <td>295.0</td>\n",
       "      <td>04/14/2020</td>\n",
       "      <td>National Cooperative Bank, National Association</td>\n",
       "      <td>AK - 00</td>\n",
       "    </tr>\n",
       "    <tr>\n",
       "      <th>1</th>\n",
       "      <td>a $5-10 million</td>\n",
       "      <td>CRUZ CONSTRUCTION INC</td>\n",
       "      <td>7000 East Palmer Wasilla Hwy</td>\n",
       "      <td>PALMER</td>\n",
       "      <td>AK</td>\n",
       "      <td>99645.0</td>\n",
       "      <td>238190.0</td>\n",
       "      <td>Subchapter S Corporation</td>\n",
       "      <td>Unanswered</td>\n",
       "      <td>Unanswered</td>\n",
       "      <td>Unanswered</td>\n",
       "      <td>NaN</td>\n",
       "      <td>215.0</td>\n",
       "      <td>04/15/2020</td>\n",
       "      <td>First National Bank Alaska</td>\n",
       "      <td>AK - 00</td>\n",
       "    </tr>\n",
       "    <tr>\n",
       "      <th>2</th>\n",
       "      <td>a $5-10 million</td>\n",
       "      <td>I. C. E. SERVICES, INC</td>\n",
       "      <td>2606 C Street</td>\n",
       "      <td>ANCHORAGE</td>\n",
       "      <td>AK</td>\n",
       "      <td>99503.0</td>\n",
       "      <td>722310.0</td>\n",
       "      <td>Corporation</td>\n",
       "      <td>Unanswered</td>\n",
       "      <td>Unanswered</td>\n",
       "      <td>Unanswered</td>\n",
       "      <td>NaN</td>\n",
       "      <td>367.0</td>\n",
       "      <td>04/11/2020</td>\n",
       "      <td>KeyBank National Association</td>\n",
       "      <td>AK - 00</td>\n",
       "    </tr>\n",
       "    <tr>\n",
       "      <th>3</th>\n",
       "      <td>a $5-10 million</td>\n",
       "      <td>KATMAI HEALTH SERVICES LLC</td>\n",
       "      <td>11001 O'MALLEY CENTRE DRIVE, SUITE 204</td>\n",
       "      <td>ANCHORAGE</td>\n",
       "      <td>AK</td>\n",
       "      <td>99515.0</td>\n",
       "      <td>621111.0</td>\n",
       "      <td>Limited  Liability Company(LLC)</td>\n",
       "      <td>Unanswered</td>\n",
       "      <td>Unanswered</td>\n",
       "      <td>Unanswered</td>\n",
       "      <td>NaN</td>\n",
       "      <td>0.0</td>\n",
       "      <td>04/29/2020</td>\n",
       "      <td>Truist Bank d/b/a Branch Banking &amp; Trust Co</td>\n",
       "      <td>AK - 00</td>\n",
       "    </tr>\n",
       "    <tr>\n",
       "      <th>4</th>\n",
       "      <td>a $5-10 million</td>\n",
       "      <td>MATANUSKA TELEPHONE ASSOCIATION</td>\n",
       "      <td>1740 S. CHUGACH ST</td>\n",
       "      <td>PALMER</td>\n",
       "      <td>AK</td>\n",
       "      <td>99645.0</td>\n",
       "      <td>517311.0</td>\n",
       "      <td>Cooperative</td>\n",
       "      <td>Unanswered</td>\n",
       "      <td>Unanswered</td>\n",
       "      <td>Unanswered</td>\n",
       "      <td>NaN</td>\n",
       "      <td>267.0</td>\n",
       "      <td>06/10/2020</td>\n",
       "      <td>CoBank ACB</td>\n",
       "      <td>AK - 00</td>\n",
       "    </tr>\n",
       "  </tbody>\n",
       "</table>\n",
       "</div>"
      ],
      "text/plain": [
       "         LoanRange                           BusinessName  \\\n",
       "0  a $5-10 million  ARCTIC SLOPE NATIVE ASSOCIATION, LTD.   \n",
       "1  a $5-10 million                  CRUZ CONSTRUCTION INC   \n",
       "2  a $5-10 million                 I. C. E. SERVICES, INC   \n",
       "3  a $5-10 million             KATMAI HEALTH SERVICES LLC   \n",
       "4  a $5-10 million        MATANUSKA TELEPHONE ASSOCIATION   \n",
       "\n",
       "                                  Address       City State      Zip  \\\n",
       "0                            7000 Uula St     BARROW    AK  99723.0   \n",
       "1            7000 East Palmer Wasilla Hwy     PALMER    AK  99645.0   \n",
       "2                           2606 C Street  ANCHORAGE    AK  99503.0   \n",
       "3  11001 O'MALLEY CENTRE DRIVE, SUITE 204  ANCHORAGE    AK  99515.0   \n",
       "4                      1740 S. CHUGACH ST     PALMER    AK  99645.0   \n",
       "\n",
       "   NAICSCode                     BusinessType RaceEthnicity      Gender  \\\n",
       "0   813920.0          Non-Profit Organization    Unanswered  Unanswered   \n",
       "1   238190.0         Subchapter S Corporation    Unanswered  Unanswered   \n",
       "2   722310.0                      Corporation    Unanswered  Unanswered   \n",
       "3   621111.0  Limited  Liability Company(LLC)    Unanswered  Unanswered   \n",
       "4   517311.0                      Cooperative    Unanswered  Unanswered   \n",
       "\n",
       "      Veteran NonProfit  JobsRetained DateApproved  \\\n",
       "0  Unanswered         Y         295.0   04/14/2020   \n",
       "1  Unanswered       NaN         215.0   04/15/2020   \n",
       "2  Unanswered       NaN         367.0   04/11/2020   \n",
       "3  Unanswered       NaN           0.0   04/29/2020   \n",
       "4  Unanswered       NaN         267.0   06/10/2020   \n",
       "\n",
       "                                            Lender       CD  \n",
       "0  National Cooperative Bank, National Association  AK - 00  \n",
       "1                       First National Bank Alaska  AK - 00  \n",
       "2                     KeyBank National Association  AK - 00  \n",
       "3      Truist Bank d/b/a Branch Banking & Trust Co  AK - 00  \n",
       "4                                       CoBank ACB  AK - 00  "
      ]
     },
     "execution_count": 5,
     "metadata": {},
     "output_type": "execute_result"
    }
   ],
   "source": [
    "mt150.head()"
   ]
  },
  {
   "cell_type": "code",
   "execution_count": 6,
   "metadata": {
    "collapsed": true
   },
   "outputs": [],
   "source": [
    "# Creates a new column 'NAICSCode_int' which converts 'NAICSCode' into integer.\n",
    "\n",
    "mt150['NAICSCode_int'] = mt150['NAICSCode'].fillna('0').astype('int')"
   ]
  },
  {
   "cell_type": "code",
   "execution_count": 7,
   "metadata": {
    "collapsed": true
   },
   "outputs": [],
   "source": [
    "def get_naics(naicscode):\n",
    "    '''Requests NAICS api to retrieve code title.'''\n",
    "    \n",
    "    page = requests.get(\"http://api.naics.us/v0/q?year=2012&code={}\".format(naicscode))\n",
    "    naicspage = json.loads(page.content)\n",
    "    try:\n",
    "        title = naicspage['title']\n",
    "    except:\n",
    "        title = 'NAICS Not Found'\n",
    "    return title"
   ]
  },
  {
   "cell_type": "code",
   "execution_count": null,
   "metadata": {
    "collapsed": true,
    "scrolled": true
   },
   "outputs": [],
   "source": [
    "## get_naics(mt150['NAICSCode_int'][0])"
   ]
  },
  {
   "cell_type": "code",
   "execution_count": null,
   "metadata": {
    "collapsed": true,
    "scrolled": false
   },
   "outputs": [],
   "source": [
    "# Retrieve all NAICS Titles\n",
    "\n",
    "# mt150['NAICS_title'] = mt150['NAICSCode_int'].apply(lambda x: get_naics(x))"
   ]
  },
  {
   "cell_type": "code",
   "execution_count": 8,
   "metadata": {},
   "outputs": [
    {
     "name": "stdout",
     "output_type": "stream",
     "text": [
      "Wall time: 5.86 s\n"
     ]
    }
   ],
   "source": [
    "%%time\n",
    "top50try = mt150['NAICSCode_int'][:50].apply(lambda x: get_naics(x))"
   ]
  },
  {
   "cell_type": "code",
   "execution_count": 9,
   "metadata": {},
   "outputs": [
    {
     "name": "stdout",
     "output_type": "stream",
     "text": [
      "Would take 19.432462333333334 hours to retrieve all NAICS titles.\n"
     ]
    }
   ],
   "source": [
    "print('Would take {} hours to retrieve all NAICS titles.'.format(((mt150.shape[0] / 50) * 5.29) /3600))"
   ]
  },
  {
   "cell_type": "code",
   "execution_count": null,
   "metadata": {
    "collapsed": true,
    "scrolled": true
   },
   "outputs": [],
   "source": [
    "# mt150.groupby('NAICSCode_int')['BusinessName'].nunique().sort_values(ascending=False)[:20]"
   ]
  },
  {
   "cell_type": "code",
   "execution_count": 10,
   "metadata": {
    "collapsed": true
   },
   "outputs": [],
   "source": [
    "# Create new frame with only unique NAICS codes.\n",
    "\n",
    "uqNAICSCodes = pd.DataFrame(mt150['NAICSCode_int'].unique(), columns=['NAICSCode_int'])"
   ]
  },
  {
   "cell_type": "code",
   "execution_count": 11,
   "metadata": {},
   "outputs": [
    {
     "name": "stdout",
     "output_type": "stream",
     "text": [
      "Wall time: 2min 42s\n"
     ]
    }
   ],
   "source": [
    "%%time\n",
    "# Retrieve titles for Unique NAICS codes.\n",
    "\n",
    "uqNAICSCodes['titles'] = uqNAICSCodes['NAICSCode_int'].apply(lambda x: get_naics(x))"
   ]
  },
  {
   "cell_type": "code",
   "execution_count": 12,
   "metadata": {
    "collapsed": true
   },
   "outputs": [],
   "source": [
    "# Merge Unique titles into main frame. \n",
    "\n",
    "mt150 = mt150.merge(uqNAICSCodes, on='NAICSCode_int')"
   ]
  },
  {
   "cell_type": "code",
   "execution_count": 13,
   "metadata": {
    "collapsed": true
   },
   "outputs": [],
   "source": [
    "# Split LoanRange into two: LoanCategory and LoanRange\n",
    "\n",
    "mt150[['LoanCategory', 'LoanRange']] = mt150['LoanRange'].str.split(' ', 1, expand=True)"
   ]
  },
  {
   "cell_type": "code",
   "execution_count": null,
   "metadata": {
    "collapsed": true,
    "scrolled": true
   },
   "outputs": [],
   "source": [
    "pd.DataFrame(mt150.groupby('titles')[['BusinessName', 'LoanCategory']].count().sort_values(by='BusinessName', ascending=False))"
   ]
  },
  {
   "cell_type": "code",
   "execution_count": null,
   "metadata": {
    "collapsed": true
   },
   "outputs": [],
   "source": [
    "catplot_frame = pd.DataFrame(mt150.groupby(['titles', 'LoanRange']).agg({'BusinessName': 'count'}))\n",
    "catplot_frame.head()"
   ]
  },
  {
   "cell_type": "code",
   "execution_count": null,
   "metadata": {
    "collapsed": true
   },
   "outputs": [],
   "source": [
    "sns.catplot(x = \"LoanRange\", y = \"BuinessName\", col = \"titles\")"
   ]
  },
  {
   "cell_type": "code",
   "execution_count": 14,
   "metadata": {},
   "outputs": [
    {
     "data": {
      "text/html": [
       "<div>\n",
       "<style scoped>\n",
       "    .dataframe tbody tr th:only-of-type {\n",
       "        vertical-align: middle;\n",
       "    }\n",
       "\n",
       "    .dataframe tbody tr th {\n",
       "        vertical-align: top;\n",
       "    }\n",
       "\n",
       "    .dataframe thead th {\n",
       "        text-align: right;\n",
       "    }\n",
       "</style>\n",
       "<table border=\"1\" class=\"dataframe\">\n",
       "  <thead>\n",
       "    <tr style=\"text-align: right;\">\n",
       "      <th></th>\n",
       "      <th>LoanRange</th>\n",
       "      <th>BusinessName</th>\n",
       "      <th>Address</th>\n",
       "      <th>City</th>\n",
       "      <th>State</th>\n",
       "      <th>Zip</th>\n",
       "      <th>NAICSCode</th>\n",
       "      <th>BusinessType</th>\n",
       "      <th>RaceEthnicity</th>\n",
       "      <th>Gender</th>\n",
       "      <th>Veteran</th>\n",
       "      <th>NonProfit</th>\n",
       "      <th>JobsRetained</th>\n",
       "      <th>DateApproved</th>\n",
       "      <th>Lender</th>\n",
       "      <th>CD</th>\n",
       "      <th>NAICSCode_int</th>\n",
       "      <th>titles</th>\n",
       "      <th>LoanCategory</th>\n",
       "    </tr>\n",
       "  </thead>\n",
       "  <tbody>\n",
       "    <tr>\n",
       "      <th>0</th>\n",
       "      <td>$5-10 million</td>\n",
       "      <td>ARCTIC SLOPE NATIVE ASSOCIATION, LTD.</td>\n",
       "      <td>7000 Uula St</td>\n",
       "      <td>BARROW</td>\n",
       "      <td>AK</td>\n",
       "      <td>99723.0</td>\n",
       "      <td>813920.0</td>\n",
       "      <td>Non-Profit Organization</td>\n",
       "      <td>Unanswered</td>\n",
       "      <td>Unanswered</td>\n",
       "      <td>Unanswered</td>\n",
       "      <td>Y</td>\n",
       "      <td>295.0</td>\n",
       "      <td>04/14/2020</td>\n",
       "      <td>National Cooperative Bank, National Association</td>\n",
       "      <td>AK - 00</td>\n",
       "      <td>813920</td>\n",
       "      <td>Professional Organizations</td>\n",
       "      <td>a</td>\n",
       "    </tr>\n",
       "    <tr>\n",
       "      <th>1</th>\n",
       "      <td>$1-2 million</td>\n",
       "      <td>THE WASHINGTON COUNTY HEALTH CARE AUTHORITY, INC.</td>\n",
       "      <td>14600 SAINT STEPHENS AVE</td>\n",
       "      <td>CHATOM</td>\n",
       "      <td>AL</td>\n",
       "      <td>36518.0</td>\n",
       "      <td>813920.0</td>\n",
       "      <td>Corporation</td>\n",
       "      <td>Unanswered</td>\n",
       "      <td>Unanswered</td>\n",
       "      <td>Unanswered</td>\n",
       "      <td>NaN</td>\n",
       "      <td>201.0</td>\n",
       "      <td>04/10/2020</td>\n",
       "      <td>The First, A National Banking Association</td>\n",
       "      <td>AL - 01</td>\n",
       "      <td>813920</td>\n",
       "      <td>Professional Organizations</td>\n",
       "      <td>c</td>\n",
       "    </tr>\n",
       "    <tr>\n",
       "      <th>2</th>\n",
       "      <td>$350,000-1 million</td>\n",
       "      <td>AMERICAN PHARMACY COOPERATIVE INC</td>\n",
       "      <td>5601 SHIRLEY PARK DR</td>\n",
       "      <td>BESSEMER</td>\n",
       "      <td>AL</td>\n",
       "      <td>35022.0</td>\n",
       "      <td>813920.0</td>\n",
       "      <td>Non-Profit Organization</td>\n",
       "      <td>Unanswered</td>\n",
       "      <td>Unanswered</td>\n",
       "      <td>Unanswered</td>\n",
       "      <td>Y</td>\n",
       "      <td>56.0</td>\n",
       "      <td>04/06/2020</td>\n",
       "      <td>ServisFirst Bank</td>\n",
       "      <td>AL - 06</td>\n",
       "      <td>813920</td>\n",
       "      <td>Professional Organizations</td>\n",
       "      <td>d</td>\n",
       "    </tr>\n",
       "    <tr>\n",
       "      <th>3</th>\n",
       "      <td>$150,000-350,000</td>\n",
       "      <td>STRATEGIC SYSTEMS INC</td>\n",
       "      <td>3434 Central Pkwy SW</td>\n",
       "      <td>DECATUR</td>\n",
       "      <td>AL</td>\n",
       "      <td>35603.0</td>\n",
       "      <td>813920.0</td>\n",
       "      <td>Corporation</td>\n",
       "      <td>Unanswered</td>\n",
       "      <td>Unanswered</td>\n",
       "      <td>Unanswered</td>\n",
       "      <td>NaN</td>\n",
       "      <td>37.0</td>\n",
       "      <td>04/10/2020</td>\n",
       "      <td>Renasant Bank</td>\n",
       "      <td>AL - 04</td>\n",
       "      <td>813920</td>\n",
       "      <td>Professional Organizations</td>\n",
       "      <td>e</td>\n",
       "    </tr>\n",
       "    <tr>\n",
       "      <th>4</th>\n",
       "      <td>$1-2 million</td>\n",
       "      <td>WORLDATWORK</td>\n",
       "      <td>14040 N Northsight Blvd</td>\n",
       "      <td>SCOTTSDALE</td>\n",
       "      <td>AZ</td>\n",
       "      <td>85260.0</td>\n",
       "      <td>813920.0</td>\n",
       "      <td>Non-Profit Organization</td>\n",
       "      <td>Unanswered</td>\n",
       "      <td>Unanswered</td>\n",
       "      <td>Unanswered</td>\n",
       "      <td>Y</td>\n",
       "      <td>86.0</td>\n",
       "      <td>04/06/2020</td>\n",
       "      <td>BMO Harris Bank National Association</td>\n",
       "      <td>AZ - 06</td>\n",
       "      <td>813920</td>\n",
       "      <td>Professional Organizations</td>\n",
       "      <td>c</td>\n",
       "    </tr>\n",
       "  </tbody>\n",
       "</table>\n",
       "</div>"
      ],
      "text/plain": [
       "            LoanRange                                       BusinessName  \\\n",
       "0       $5-10 million              ARCTIC SLOPE NATIVE ASSOCIATION, LTD.   \n",
       "1        $1-2 million  THE WASHINGTON COUNTY HEALTH CARE AUTHORITY, INC.   \n",
       "2  $350,000-1 million                  AMERICAN PHARMACY COOPERATIVE INC   \n",
       "3    $150,000-350,000                              STRATEGIC SYSTEMS INC   \n",
       "4        $1-2 million                                        WORLDATWORK   \n",
       "\n",
       "                    Address        City State      Zip  NAICSCode  \\\n",
       "0              7000 Uula St      BARROW    AK  99723.0   813920.0   \n",
       "1  14600 SAINT STEPHENS AVE      CHATOM    AL  36518.0   813920.0   \n",
       "2      5601 SHIRLEY PARK DR    BESSEMER    AL  35022.0   813920.0   \n",
       "3      3434 Central Pkwy SW     DECATUR    AL  35603.0   813920.0   \n",
       "4   14040 N Northsight Blvd  SCOTTSDALE    AZ  85260.0   813920.0   \n",
       "\n",
       "              BusinessType RaceEthnicity      Gender     Veteran NonProfit  \\\n",
       "0  Non-Profit Organization    Unanswered  Unanswered  Unanswered         Y   \n",
       "1              Corporation    Unanswered  Unanswered  Unanswered       NaN   \n",
       "2  Non-Profit Organization    Unanswered  Unanswered  Unanswered         Y   \n",
       "3              Corporation    Unanswered  Unanswered  Unanswered       NaN   \n",
       "4  Non-Profit Organization    Unanswered  Unanswered  Unanswered         Y   \n",
       "\n",
       "   JobsRetained DateApproved                                           Lender  \\\n",
       "0         295.0   04/14/2020  National Cooperative Bank, National Association   \n",
       "1         201.0   04/10/2020        The First, A National Banking Association   \n",
       "2          56.0   04/06/2020                                 ServisFirst Bank   \n",
       "3          37.0   04/10/2020                                    Renasant Bank   \n",
       "4          86.0   04/06/2020             BMO Harris Bank National Association   \n",
       "\n",
       "        CD  NAICSCode_int                      titles LoanCategory  \n",
       "0  AK - 00         813920  Professional Organizations            a  \n",
       "1  AL - 01         813920  Professional Organizations            c  \n",
       "2  AL - 06         813920  Professional Organizations            d  \n",
       "3  AL - 04         813920  Professional Organizations            e  \n",
       "4  AZ - 06         813920  Professional Organizations            c  "
      ]
     },
     "execution_count": 14,
     "metadata": {},
     "output_type": "execute_result"
    }
   ],
   "source": [
    "mt150.head()"
   ]
  },
  {
   "cell_type": "code",
   "execution_count": null,
   "metadata": {
    "collapsed": true
   },
   "outputs": [],
   "source": []
  },
  {
   "cell_type": "code",
   "execution_count": null,
   "metadata": {
    "collapsed": true
   },
   "outputs": [],
   "source": [
    "# mt150.loc[mt150['City'] == 'NEW ORLEANS']"
   ]
  },
  {
   "cell_type": "code",
   "execution_count": null,
   "metadata": {
    "collapsed": true
   },
   "outputs": [],
   "source": []
  },
  {
   "cell_type": "code",
   "execution_count": null,
   "metadata": {
    "collapsed": true
   },
   "outputs": [],
   "source": [
    "## Francisco recommends:\n",
    "##    folium"
   ]
  }
 ],
 "metadata": {
  "kernelspec": {
   "display_name": "Python 3",
   "language": "python",
   "name": "python3"
  },
  "language_info": {
   "codemirror_mode": {
    "name": "ipython",
    "version": 3
   },
   "file_extension": ".py",
   "mimetype": "text/x-python",
   "name": "python",
   "nbconvert_exporter": "python",
   "pygments_lexer": "ipython3",
   "version": "3.6.2"
  }
 },
 "nbformat": 4,
 "nbformat_minor": 2
}
