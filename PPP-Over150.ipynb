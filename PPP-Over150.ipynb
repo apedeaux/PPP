{
 "cells": [
  {
   "cell_type": "code",
   "execution_count": 16,
   "metadata": {
    "scrolled": true
   },
   "outputs": [],
   "source": [
    "import pandas as pd\n",
    "import requests\n",
    "import json\n",
    "import matplotlib.pyplot as plt\n",
    "import seaborn as sns\n",
    "import yaml"
   ]
  },
  {
   "cell_type": "code",
   "execution_count": 3,
   "metadata": {},
   "outputs": [
    {
     "data": {
      "text/plain": [
       "'C:\\\\Users\\\\Aaron\\\\Documents\\\\ML_Udacity\\\\PPP'"
      ]
     },
     "execution_count": 3,
     "metadata": {},
     "output_type": "execute_result"
    }
   ],
   "source": [
    "pwd"
   ]
  },
  {
   "cell_type": "code",
   "execution_count": 124,
   "metadata": {},
   "outputs": [],
   "source": [
    "with open(r'C:\\Users\\Aaron\\Documents\\ML_Udacity\\PPP\\api_key.yaml') as f:\n",
    "    key = yaml.safe_load(f)"
   ]
  },
  {
   "cell_type": "code",
   "execution_count": 131,
   "metadata": {
    "collapsed": true
   },
   "outputs": [],
   "source": [
    "mt150 = pd.read_csv('C:/Users/Aaron/Documents/ML_Udacity/PPP/All Data by State/All Data by State/150k plus/PPP Data 150k plus.csv')"
   ]
  },
  {
   "cell_type": "code",
   "execution_count": 112,
   "metadata": {},
   "outputs": [
    {
     "name": "stdout",
     "output_type": "stream",
     "text": [
      "Data Set: PPP More than $150k \n",
      "Rows: 661218\n",
      "Cols: 16\n"
     ]
    }
   ],
   "source": [
    "print(\"Data Set: PPP More than $150k \\nRows: {}\\nCols: {}\".format(mt150.shape[0], mt150.shape[1]))"
   ]
  },
  {
   "cell_type": "code",
   "execution_count": null,
   "metadata": {},
   "outputs": [],
   "source": [
    "# mt150.head()"
   ]
  },
  {
   "cell_type": "code",
   "execution_count": 132,
   "metadata": {},
   "outputs": [],
   "source": [
    "# Creates a new column 'NAICSCode_int' which converts 'NAICSCode' into integer.\n",
    "\n",
    "mt150['NAICSCode_int'] = mt150['NAICSCode'].fillna('0').astype('int')\n",
    "mt150['Zip'] = mt150['Zip'].fillna(' ').astype(str)\n",
    "for col in ['Address', 'City', 'State']:\n",
    "    mt150[col] = mt150[col].fillna('NA').astype('str')"
   ]
  },
  {
   "cell_type": "code",
   "execution_count": 20,
   "metadata": {
    "collapsed": true
   },
   "outputs": [],
   "source": [
    "def get_naics(naicscode):\n",
    "    '''Requests NAICS api to retrieve code title.'''\n",
    "    \n",
    "    page = requests.get(\"http://api.naics.us/v0/q?year=2012&code={}\".format(naicscode))\n",
    "    naicspage = json.loads(page.content)\n",
    "    try:\n",
    "        title = naicspage['title']\n",
    "    except:\n",
    "        title = 'NAICS Not Found'\n",
    "    return title"
   ]
  },
  {
   "cell_type": "code",
   "execution_count": null,
   "metadata": {
    "collapsed": true,
    "scrolled": true
   },
   "outputs": [],
   "source": [
    "## get_naics(mt150['NAICSCode_int'][0])"
   ]
  },
  {
   "cell_type": "code",
   "execution_count": null,
   "metadata": {
    "collapsed": true,
    "scrolled": false
   },
   "outputs": [],
   "source": [
    "# Retrieve all NAICS Titles\n",
    "\n",
    "# mt150['NAICS_title'] = mt150['NAICSCode_int'].apply(lambda x: get_naics(x))"
   ]
  },
  {
   "cell_type": "code",
   "execution_count": 21,
   "metadata": {},
   "outputs": [
    {
     "name": "stdout",
     "output_type": "stream",
     "text": [
      "Wall time: 5.36 s\n"
     ]
    }
   ],
   "source": [
    "%%time\n",
    "top50try = mt150['NAICSCode_int'][:50].apply(lambda x: get_naics(x))"
   ]
  },
  {
   "cell_type": "code",
   "execution_count": 22,
   "metadata": {},
   "outputs": [
    {
     "name": "stdout",
     "output_type": "stream",
     "text": [
      "Would take 19.432462333333334 hours to retrieve all NAICS titles.\n"
     ]
    }
   ],
   "source": [
    "print('Would take {} hours to retrieve all NAICS titles.'.format(((mt150.shape[0] / 50) * 5.29) /3600))"
   ]
  },
  {
   "cell_type": "code",
   "execution_count": null,
   "metadata": {
    "collapsed": true,
    "scrolled": true
   },
   "outputs": [],
   "source": [
    "# mt150.groupby('NAICSCode_int')['BusinessName'].nunique().sort_values(ascending=False)[:20]"
   ]
  },
  {
   "cell_type": "code",
   "execution_count": 23,
   "metadata": {
    "collapsed": true
   },
   "outputs": [],
   "source": [
    "# Create new frame with only unique NAICS codes.\n",
    "\n",
    "uqNAICSCodes = pd.DataFrame(mt150['NAICSCode_int'].unique(), columns=['NAICSCode_int'])"
   ]
  },
  {
   "cell_type": "code",
   "execution_count": 24,
   "metadata": {},
   "outputs": [
    {
     "name": "stdout",
     "output_type": "stream",
     "text": [
      "Wall time: 2min 34s\n"
     ]
    }
   ],
   "source": [
    "%%time\n",
    "# Retrieve titles for Unique NAICS codes.\n",
    "\n",
    "uqNAICSCodes['titles'] = uqNAICSCodes['NAICSCode_int'].apply(lambda x: get_naics(x))"
   ]
  },
  {
   "cell_type": "code",
   "execution_count": 25,
   "metadata": {
    "collapsed": true
   },
   "outputs": [],
   "source": [
    "# Merge Unique titles into main frame. \n",
    "\n",
    "mt150 = mt150.merge(uqNAICSCodes, on='NAICSCode_int')"
   ]
  },
  {
   "cell_type": "code",
   "execution_count": 26,
   "metadata": {
    "collapsed": true
   },
   "outputs": [],
   "source": [
    "# Split LoanRange into two: LoanCategory and LoanRange\n",
    "\n",
    "mt150[['LoanCategory', 'LoanRange']] = mt150['LoanRange'].str.split(' ', 1, expand=True)"
   ]
  },
  {
   "cell_type": "code",
   "execution_count": null,
   "metadata": {
    "scrolled": true
   },
   "outputs": [],
   "source": [
    "#pd.DataFrame(mt150.groupby('titles')[['BusinessName', 'LoanCategory']].count().sort_values(by='BusinessName', ascending=False))[:25]"
   ]
  },
  {
   "cell_type": "code",
   "execution_count": null,
   "metadata": {
    "collapsed": true
   },
   "outputs": [],
   "source": []
  },
  {
   "cell_type": "code",
   "execution_count": 27,
   "metadata": {
    "collapsed": true,
    "scrolled": true
   },
   "outputs": [],
   "source": [
    "barplot_frame = pd.DataFrame(mt150.titles.value_counts().sort_values(ascending=False)[:6])"
   ]
  },
  {
   "cell_type": "code",
   "execution_count": 28,
   "metadata": {},
   "outputs": [
    {
     "data": {
      "image/png": "[encoded data removed]",
      "text/plain": [
       "<matplotlib.figure.Figure at 0x26b3f716b00>"
      ]
     },
     "metadata": {},
     "output_type": "display_data"
    }
   ],
   "source": [
    "plot = sns.barplot(y = barplot_frame[\"titles\"], x = barplot_frame.index)\n",
    "plot.set_xticklabels(labels = barplot_frame.index, rotation=90)\n",
    "plt.show()"
   ]
  },
  {
   "cell_type": "code",
   "execution_count": 30,
   "metadata": {},
   "outputs": [],
   "source": [
    "# catplot_frame.LoanRange.unique()"
   ]
  },
  {
   "cell_type": "code",
   "execution_count": 31,
   "metadata": {
    "scrolled": true
   },
   "outputs": [
    {
     "data": {
      "text/plain": [
       "(4765, 3)"
      ]
     },
     "execution_count": 31,
     "metadata": {},
     "output_type": "execute_result"
    }
   ],
   "source": [
    "catplot_frame = pd.DataFrame(mt150.groupby(['titles', 'LoanRange']).agg({'BusinessName': 'count'}))\n",
    "catplot_frame = catplot_frame.reset_index()\n",
    "catplot_frame.shape"
   ]
  },
  {
   "cell_type": "code",
   "execution_count": 32,
   "metadata": {},
   "outputs": [],
   "source": [
    "catplot_frame = catplot_frame.loc[catplot_frame['titles'].isin(barplot_frame.index)]"
   ]
  },
  {
   "cell_type": "code",
   "execution_count": 33,
   "metadata": {},
   "outputs": [
    {
     "data": {
      "text/html": [
       "<div>\n",
       "<style scoped>\n",
       "    .dataframe tbody tr th:only-of-type {\n",
       "        vertical-align: middle;\n",
       "    }\n",
       "\n",
       "    .dataframe tbody tr th {\n",
       "        vertical-align: top;\n",
       "    }\n",
       "\n",
       "    .dataframe thead th {\n",
       "        text-align: right;\n",
       "    }\n",
       "</style>\n",
       "<table border=\"1\" class=\"dataframe\">\n",
       "  <thead>\n",
       "    <tr style=\"text-align: right;\">\n",
       "      <th></th>\n",
       "      <th>titles</th>\n",
       "      <th>LoanRange</th>\n",
       "      <th>BusinessName</th>\n",
       "    </tr>\n",
       "  </thead>\n",
       "  <tbody>\n",
       "    <tr>\n",
       "      <th>1655</th>\n",
       "      <td>Full-Service Restaurants</td>\n",
       "      <td>$1-2 million</td>\n",
       "      <td>1004</td>\n",
       "    </tr>\n",
       "    <tr>\n",
       "      <th>1656</th>\n",
       "      <td>Full-Service Restaurants</td>\n",
       "      <td>$150,000-350,000</td>\n",
       "      <td>24631</td>\n",
       "    </tr>\n",
       "    <tr>\n",
       "      <th>1657</th>\n",
       "      <td>Full-Service Restaurants</td>\n",
       "      <td>$2-5 million</td>\n",
       "      <td>440</td>\n",
       "    </tr>\n",
       "    <tr>\n",
       "      <th>1658</th>\n",
       "      <td>Full-Service Restaurants</td>\n",
       "      <td>$350,000-1 million</td>\n",
       "      <td>7351</td>\n",
       "    </tr>\n",
       "    <tr>\n",
       "      <th>1659</th>\n",
       "      <td>Full-Service Restaurants</td>\n",
       "      <td>$5-10 million</td>\n",
       "      <td>182</td>\n",
       "    </tr>\n",
       "  </tbody>\n",
       "</table>\n",
       "</div>"
      ],
      "text/plain": [
       "                        titles           LoanRange  BusinessName\n",
       "1655  Full-Service Restaurants        $1-2 million          1004\n",
       "1656  Full-Service Restaurants    $150,000-350,000         24631\n",
       "1657  Full-Service Restaurants        $2-5 million           440\n",
       "1658  Full-Service Restaurants  $350,000-1 million          7351\n",
       "1659  Full-Service Restaurants       $5-10 million           182"
      ]
     },
     "execution_count": 33,
     "metadata": {},
     "output_type": "execute_result"
    }
   ],
   "source": [
    "catplot_frame.head()"
   ]
  },
  {
   "cell_type": "code",
   "execution_count": 34,
   "metadata": {
    "scrolled": false
   },
   "outputs": [
    {
     "data": {
      "image/png": "[encoded data removed]",
      "text/plain": [
       "<matplotlib.figure.Figure at 0x26b5515de80>"
      ]
     },
     "metadata": {},
     "output_type": "display_data"
    }
   ],
   "source": [
    "plot = sns.catplot(kind='bar', x = \"LoanRange\", y = \"BusinessName\", col = 'titles', data=catplot_frame, \n",
    "                   col_wrap=3, order=['$150,000-350,000', '$350,000-1 million', '$1-2 million', '$2-5 million','$5-10 million'])\n",
    "plot.set_xticklabels(labels = catplot_frame[\"LoanRange\"], rotation=90)\n",
    "plt.show()"
   ]
  },
  {
   "cell_type": "code",
   "execution_count": 141,
   "metadata": {},
   "outputs": [],
   "source": [
    "nola = mt150.loc[mt150['City'] == 'NEW ORLEANS'].copy()"
   ]
  },
  {
   "cell_type": "code",
   "execution_count": 142,
   "metadata": {},
   "outputs": [],
   "source": [
    "nola['full_address'] = nola[['Address', 'City', 'State', 'Zip']].agg(' '.join, axis=1)"
   ]
  },
  {
   "cell_type": "code",
   "execution_count": 143,
   "metadata": {
    "scrolled": true
   },
   "outputs": [
    {
     "name": "stderr",
     "output_type": "stream",
     "text": [
      "C:\\Users\\Aaron\\Anaconda3\\lib\\site-packages\\ipykernel_launcher.py:3: DeprecationWarning: The default dtype for empty Series will be 'object' instead of 'float64' in a future version. Specify a dtype explicitly to silence this warning.\n",
      "  This is separate from the ipykernel package so we can avoid doing imports until\n"
     ]
    }
   ],
   "source": [
    "# nola['lat'] = pd.Series()\n",
    "# nola['lng'] = pd.Series()\n",
    "nola['request'] = pd.Series()"
   ]
  },
  {
   "cell_type": "code",
   "execution_count": 163,
   "metadata": {},
   "outputs": [
    {
     "data": {
      "text/html": [
       "<div>\n",
       "<style scoped>\n",
       "    .dataframe tbody tr th:only-of-type {\n",
       "        vertical-align: middle;\n",
       "    }\n",
       "\n",
       "    .dataframe tbody tr th {\n",
       "        vertical-align: top;\n",
       "    }\n",
       "\n",
       "    .dataframe thead th {\n",
       "        text-align: right;\n",
       "    }\n",
       "</style>\n",
       "<table border=\"1\" class=\"dataframe\">\n",
       "  <thead>\n",
       "    <tr style=\"text-align: right;\">\n",
       "      <th></th>\n",
       "      <th>LoanRange</th>\n",
       "      <th>BusinessName</th>\n",
       "      <th>Address</th>\n",
       "      <th>City</th>\n",
       "      <th>State</th>\n",
       "      <th>Zip</th>\n",
       "      <th>NAICSCode</th>\n",
       "      <th>BusinessType</th>\n",
       "      <th>RaceEthnicity</th>\n",
       "      <th>Gender</th>\n",
       "      <th>Veteran</th>\n",
       "      <th>NonProfit</th>\n",
       "      <th>JobsRetained</th>\n",
       "      <th>DateApproved</th>\n",
       "      <th>Lender</th>\n",
       "      <th>CD</th>\n",
       "      <th>NAICSCode_int</th>\n",
       "      <th>full_address</th>\n",
       "      <th>request</th>\n",
       "    </tr>\n",
       "  </thead>\n",
       "  <tbody>\n",
       "    <tr>\n",
       "      <th>264508</th>\n",
       "      <td>a $5-10 million</td>\n",
       "      <td>ADAMS AND REESE LLP</td>\n",
       "      <td>701 Poydras St Ste 4500</td>\n",
       "      <td>NEW ORLEANS</td>\n",
       "      <td>LA</td>\n",
       "      <td>70139.0</td>\n",
       "      <td>541110.0</td>\n",
       "      <td>Limited Liability Partnership</td>\n",
       "      <td>Unanswered</td>\n",
       "      <td>Unanswered</td>\n",
       "      <td>Unanswered</td>\n",
       "      <td>NaN</td>\n",
       "      <td>458.0</td>\n",
       "      <td>04/13/2020</td>\n",
       "      <td>Regions Bank</td>\n",
       "      <td>LA - 02</td>\n",
       "      <td>541110</td>\n",
       "      <td>701 Poydras St Ste 4500 NEW ORLEANS LA 70139.0</td>\n",
       "      <td>NaN</td>\n",
       "    </tr>\n",
       "    <tr>\n",
       "      <th>264512</th>\n",
       "      <td>a $5-10 million</td>\n",
       "      <td>AUTO-CHLOR SERVICES LLC</td>\n",
       "      <td>500 DAKIN ST</td>\n",
       "      <td>NEW ORLEANS</td>\n",
       "      <td>LA</td>\n",
       "      <td>70121.0</td>\n",
       "      <td>325611.0</td>\n",
       "      <td>Limited  Liability Company(LLC)</td>\n",
       "      <td>Unanswered</td>\n",
       "      <td>Unanswered</td>\n",
       "      <td>Unanswered</td>\n",
       "      <td>NaN</td>\n",
       "      <td>370.0</td>\n",
       "      <td>04/09/2020</td>\n",
       "      <td>IBERIABANK</td>\n",
       "      <td>LA - 01</td>\n",
       "      <td>325611</td>\n",
       "      <td>500 DAKIN ST NEW ORLEANS LA 70121.0</td>\n",
       "      <td>NaN</td>\n",
       "    </tr>\n",
       "    <tr>\n",
       "      <th>264518</th>\n",
       "      <td>a $5-10 million</td>\n",
       "      <td>COLLEGIATE ACADEMIES</td>\n",
       "      <td>2625 THALIA ST</td>\n",
       "      <td>NEW ORLEANS</td>\n",
       "      <td>LA</td>\n",
       "      <td>70113.0</td>\n",
       "      <td>611110.0</td>\n",
       "      <td>Non-Profit Organization</td>\n",
       "      <td>Unanswered</td>\n",
       "      <td>Unanswered</td>\n",
       "      <td>Unanswered</td>\n",
       "      <td>Y</td>\n",
       "      <td>445.0</td>\n",
       "      <td>04/10/2020</td>\n",
       "      <td>Liberty Bank and Trust Company</td>\n",
       "      <td>LA - 02</td>\n",
       "      <td>611110</td>\n",
       "      <td>2625 THALIA ST NEW ORLEANS LA 70113.0</td>\n",
       "      <td>NaN</td>\n",
       "    </tr>\n",
       "    <tr>\n",
       "      <th>264525</th>\n",
       "      <td>a $5-10 million</td>\n",
       "      <td>DONOVAN MARINE INC</td>\n",
       "      <td>6316 HUMPHREYS STREET</td>\n",
       "      <td>NEW ORLEANS</td>\n",
       "      <td>LA</td>\n",
       "      <td>70123.0</td>\n",
       "      <td>423860.0</td>\n",
       "      <td>Corporation</td>\n",
       "      <td>Unanswered</td>\n",
       "      <td>Unanswered</td>\n",
       "      <td>Unanswered</td>\n",
       "      <td>NaN</td>\n",
       "      <td>442.0</td>\n",
       "      <td>04/10/2020</td>\n",
       "      <td>IBERIABANK</td>\n",
       "      <td>LA - 01</td>\n",
       "      <td>423860</td>\n",
       "      <td>6316 HUMPHREYS STREET NEW ORLEANS LA 70123.0</td>\n",
       "      <td>NaN</td>\n",
       "    </tr>\n",
       "    <tr>\n",
       "      <th>264526</th>\n",
       "      <td>a $5-10 million</td>\n",
       "      <td>DOYLE LAND SERVICES INC</td>\n",
       "      <td>400 POYDRAS STREET SUITE 1600</td>\n",
       "      <td>NEW ORLEANS</td>\n",
       "      <td>LA</td>\n",
       "      <td>70130.0</td>\n",
       "      <td>541199.0</td>\n",
       "      <td>Corporation</td>\n",
       "      <td>Unanswered</td>\n",
       "      <td>Unanswered</td>\n",
       "      <td>Unanswered</td>\n",
       "      <td>NaN</td>\n",
       "      <td>175.0</td>\n",
       "      <td>04/08/2020</td>\n",
       "      <td>IBERIABANK</td>\n",
       "      <td>LA - 02</td>\n",
       "      <td>541199</td>\n",
       "      <td>400 POYDRAS STREET SUITE 1600 NEW ORLEANS LA 7...</td>\n",
       "      <td>NaN</td>\n",
       "    </tr>\n",
       "  </tbody>\n",
       "</table>\n",
       "</div>"
      ],
      "text/plain": [
       "              LoanRange             BusinessName  \\\n",
       "264508  a $5-10 million      ADAMS AND REESE LLP   \n",
       "264512  a $5-10 million  AUTO-CHLOR SERVICES LLC   \n",
       "264518  a $5-10 million     COLLEGIATE ACADEMIES   \n",
       "264525  a $5-10 million       DONOVAN MARINE INC   \n",
       "264526  a $5-10 million  DOYLE LAND SERVICES INC   \n",
       "\n",
       "                              Address         City State      Zip  NAICSCode  \\\n",
       "264508        701 Poydras St Ste 4500  NEW ORLEANS    LA  70139.0   541110.0   \n",
       "264512                   500 DAKIN ST  NEW ORLEANS    LA  70121.0   325611.0   \n",
       "264518                 2625 THALIA ST  NEW ORLEANS    LA  70113.0   611110.0   \n",
       "264525          6316 HUMPHREYS STREET  NEW ORLEANS    LA  70123.0   423860.0   \n",
       "264526  400 POYDRAS STREET SUITE 1600  NEW ORLEANS    LA  70130.0   541199.0   \n",
       "\n",
       "                           BusinessType RaceEthnicity      Gender     Veteran  \\\n",
       "264508    Limited Liability Partnership    Unanswered  Unanswered  Unanswered   \n",
       "264512  Limited  Liability Company(LLC)    Unanswered  Unanswered  Unanswered   \n",
       "264518          Non-Profit Organization    Unanswered  Unanswered  Unanswered   \n",
       "264525                      Corporation    Unanswered  Unanswered  Unanswered   \n",
       "264526                      Corporation    Unanswered  Unanswered  Unanswered   \n",
       "\n",
       "       NonProfit  JobsRetained DateApproved                          Lender  \\\n",
       "264508       NaN         458.0   04/13/2020                    Regions Bank   \n",
       "264512       NaN         370.0   04/09/2020                      IBERIABANK   \n",
       "264518         Y         445.0   04/10/2020  Liberty Bank and Trust Company   \n",
       "264525       NaN         442.0   04/10/2020                      IBERIABANK   \n",
       "264526       NaN         175.0   04/08/2020                      IBERIABANK   \n",
       "\n",
       "             CD  NAICSCode_int  \\\n",
       "264508  LA - 02         541110   \n",
       "264512  LA - 01         325611   \n",
       "264518  LA - 02         611110   \n",
       "264525  LA - 01         423860   \n",
       "264526  LA - 02         541199   \n",
       "\n",
       "                                             full_address  request  \n",
       "264508     701 Poydras St Ste 4500 NEW ORLEANS LA 70139.0      NaN  \n",
       "264512                500 DAKIN ST NEW ORLEANS LA 70121.0      NaN  \n",
       "264518              2625 THALIA ST NEW ORLEANS LA 70113.0      NaN  \n",
       "264525       6316 HUMPHREYS STREET NEW ORLEANS LA 70123.0      NaN  \n",
       "264526  400 POYDRAS STREET SUITE 1600 NEW ORLEANS LA 7...      NaN  "
      ]
     },
     "execution_count": 163,
     "metadata": {},
     "output_type": "execute_result"
    }
   ],
   "source": [
    "nola.head()"
   ]
  },
  {
   "cell_type": "code",
   "execution_count": 245,
   "metadata": {},
   "outputs": [
    {
     "data": {
      "text/plain": [
       "(1234, 19)"
      ]
     },
     "execution_count": 245,
     "metadata": {},
     "output_type": "execute_result"
    }
   ],
   "source": [
    "nola.shape"
   ]
  },
  {
   "cell_type": "code",
   "execution_count": 157,
   "metadata": {},
   "outputs": [],
   "source": [
    "def geocode(address):\n",
    "    '''Takes address and outputs geocoordinates for mapping.\n",
    "        Intended for output to create new column in original df'''\n",
    "    \n",
    "    url = 'https://maps.googleapis.com/maps/api/geocode/json'\n",
    "    params = {'address':address, 'key':key}\n",
    "    r = requests.get(url, params=params).json()['results']\n",
    "    #loc = r[0]['geometry']['location']\n",
    "    return r[0]"
   ]
  },
  {
   "cell_type": "code",
   "execution_count": 139,
   "metadata": {
    "scrolled": true
   },
   "outputs": [
    {
     "data": {
      "text/plain": [
       "[{'address_components': [{'long_name': '4500',\n",
       "    'short_name': '4500',\n",
       "    'types': ['subpremise']},\n",
       "   {'long_name': 'One Shell Square',\n",
       "    'short_name': 'One Shell Square',\n",
       "    'types': ['premise']},\n",
       "   {'long_name': '701', 'short_name': '701', 'types': ['street_number']},\n",
       "   {'long_name': 'Poydras Street',\n",
       "    'short_name': 'Poydras St',\n",
       "    'types': ['route']},\n",
       "   {'long_name': 'Central Business District',\n",
       "    'short_name': 'Central Business District',\n",
       "    'types': ['neighborhood', 'political']},\n",
       "   {'long_name': 'New Orleans',\n",
       "    'short_name': 'New Orleans',\n",
       "    'types': ['locality', 'political']},\n",
       "   {'long_name': 'Orleans Parish',\n",
       "    'short_name': 'Orleans Parish',\n",
       "    'types': ['administrative_area_level_2', 'political']},\n",
       "   {'long_name': 'Louisiana',\n",
       "    'short_name': 'LA',\n",
       "    'types': ['administrative_area_level_1', 'political']},\n",
       "   {'long_name': 'United States',\n",
       "    'short_name': 'US',\n",
       "    'types': ['country', 'political']},\n",
       "   {'long_name': '70139', 'short_name': '70139', 'types': ['postal_code']}],\n",
       "  'formatted_address': 'One Shell Square, 701 Poydras St #4500, New Orleans, LA 70139, USA',\n",
       "  'geometry': {'bounds': {'northeast': {'lat': 29.95069999999999,\n",
       "     'lng': -90.07040169999999},\n",
       "    'southwest': {'lat': 29.9498595, 'lng': -90.0717062}},\n",
       "   'location': {'lat': 29.9503038, 'lng': -90.0713499},\n",
       "   'location_type': 'ROOFTOP',\n",
       "   'viewport': {'northeast': {'lat': 29.9516287302915,\n",
       "     'lng': -90.06970496970848},\n",
       "    'southwest': {'lat': 29.9489307697085, 'lng': -90.0724029302915}}},\n",
       "  'place_id': 'EkJPbmUgU2hlbGwgU3F1YXJlLCA3MDEgUG95ZHJhcyBTdCAjNDUwMCwgTmV3IE9ybGVhbnMsIExBIDcwMTM5LCBVU0EiIBoeChYKFAoSCUFck7d0piCGEecDNI2GsVJgEgQ0NTAw',\n",
       "  'types': ['subpremise']}]"
      ]
     },
     "execution_count": 139,
     "metadata": {},
     "output_type": "execute_result"
    }
   ],
   "source": [
    "geocode(nola.iloc[0]['full_address'])"
   ]
  },
  {
   "cell_type": "code",
   "execution_count": 164,
   "metadata": {},
   "outputs": [],
   "source": [
    "nola['request'] = nola['full_address'].apply(geocode)"
   ]
  },
  {
   "cell_type": "code",
   "execution_count": 165,
   "metadata": {
    "collapsed": true
   },
   "outputs": [],
   "source": [
    "nola.to_pickle(\"nola.pkl\")"
   ]
  },
  {
   "cell_type": "code",
   "execution_count": 158,
   "metadata": {},
   "outputs": [],
   "source": [
    "nola_head = nola.head()['full_address'].apply(geocode)"
   ]
  },
  {
   "cell_type": "code",
   "execution_count": 159,
   "metadata": {},
   "outputs": [
    {
     "data": {
      "text/plain": [
       "264508    {'address_components': [{'long_name': '4500', ...\n",
       "264512    {'address_components': [{'long_name': '500', '...\n",
       "264518    {'address_components': [{'long_name': '2625', ...\n",
       "264525    {'address_components': [{'long_name': '6316', ...\n",
       "264526    {'address_components': [{'long_name': '1600', ...\n",
       "Name: full_address, dtype: object"
      ]
     },
     "execution_count": 159,
     "metadata": {},
     "output_type": "execute_result"
    }
   ],
   "source": [
    "nola_head"
   ]
  },
  {
   "cell_type": "code",
   "execution_count": 166,
   "metadata": {},
   "outputs": [
    {
     "data": {
      "text/html": [
       "<div>\n",
       "<style scoped>\n",
       "    .dataframe tbody tr th:only-of-type {\n",
       "        vertical-align: middle;\n",
       "    }\n",
       "\n",
       "    .dataframe tbody tr th {\n",
       "        vertical-align: top;\n",
       "    }\n",
       "\n",
       "    .dataframe thead th {\n",
       "        text-align: right;\n",
       "    }\n",
       "</style>\n",
       "<table border=\"1\" class=\"dataframe\">\n",
       "  <thead>\n",
       "    <tr style=\"text-align: right;\">\n",
       "      <th></th>\n",
       "      <th>LoanRange</th>\n",
       "      <th>BusinessName</th>\n",
       "      <th>Address</th>\n",
       "      <th>City</th>\n",
       "      <th>State</th>\n",
       "      <th>Zip</th>\n",
       "      <th>NAICSCode</th>\n",
       "      <th>BusinessType</th>\n",
       "      <th>RaceEthnicity</th>\n",
       "      <th>Gender</th>\n",
       "      <th>Veteran</th>\n",
       "      <th>NonProfit</th>\n",
       "      <th>JobsRetained</th>\n",
       "      <th>DateApproved</th>\n",
       "      <th>Lender</th>\n",
       "      <th>CD</th>\n",
       "      <th>NAICSCode_int</th>\n",
       "      <th>full_address</th>\n",
       "      <th>request</th>\n",
       "    </tr>\n",
       "  </thead>\n",
       "  <tbody>\n",
       "    <tr>\n",
       "      <th>264508</th>\n",
       "      <td>a $5-10 million</td>\n",
       "      <td>ADAMS AND REESE LLP</td>\n",
       "      <td>701 Poydras St Ste 4500</td>\n",
       "      <td>NEW ORLEANS</td>\n",
       "      <td>LA</td>\n",
       "      <td>70139.0</td>\n",
       "      <td>541110.0</td>\n",
       "      <td>Limited Liability Partnership</td>\n",
       "      <td>Unanswered</td>\n",
       "      <td>Unanswered</td>\n",
       "      <td>Unanswered</td>\n",
       "      <td>NaN</td>\n",
       "      <td>458.0</td>\n",
       "      <td>04/13/2020</td>\n",
       "      <td>Regions Bank</td>\n",
       "      <td>LA - 02</td>\n",
       "      <td>541110</td>\n",
       "      <td>701 Poydras St Ste 4500 NEW ORLEANS LA 70139.0</td>\n",
       "      <td>{'address_components': [{'long_name': '4500', ...</td>\n",
       "    </tr>\n",
       "    <tr>\n",
       "      <th>264512</th>\n",
       "      <td>a $5-10 million</td>\n",
       "      <td>AUTO-CHLOR SERVICES LLC</td>\n",
       "      <td>500 DAKIN ST</td>\n",
       "      <td>NEW ORLEANS</td>\n",
       "      <td>LA</td>\n",
       "      <td>70121.0</td>\n",
       "      <td>325611.0</td>\n",
       "      <td>Limited  Liability Company(LLC)</td>\n",
       "      <td>Unanswered</td>\n",
       "      <td>Unanswered</td>\n",
       "      <td>Unanswered</td>\n",
       "      <td>NaN</td>\n",
       "      <td>370.0</td>\n",
       "      <td>04/09/2020</td>\n",
       "      <td>IBERIABANK</td>\n",
       "      <td>LA - 01</td>\n",
       "      <td>325611</td>\n",
       "      <td>500 DAKIN ST NEW ORLEANS LA 70121.0</td>\n",
       "      <td>{'address_components': [{'long_name': '500', '...</td>\n",
       "    </tr>\n",
       "    <tr>\n",
       "      <th>264518</th>\n",
       "      <td>a $5-10 million</td>\n",
       "      <td>COLLEGIATE ACADEMIES</td>\n",
       "      <td>2625 THALIA ST</td>\n",
       "      <td>NEW ORLEANS</td>\n",
       "      <td>LA</td>\n",
       "      <td>70113.0</td>\n",
       "      <td>611110.0</td>\n",
       "      <td>Non-Profit Organization</td>\n",
       "      <td>Unanswered</td>\n",
       "      <td>Unanswered</td>\n",
       "      <td>Unanswered</td>\n",
       "      <td>Y</td>\n",
       "      <td>445.0</td>\n",
       "      <td>04/10/2020</td>\n",
       "      <td>Liberty Bank and Trust Company</td>\n",
       "      <td>LA - 02</td>\n",
       "      <td>611110</td>\n",
       "      <td>2625 THALIA ST NEW ORLEANS LA 70113.0</td>\n",
       "      <td>{'address_components': [{'long_name': '2625', ...</td>\n",
       "    </tr>\n",
       "    <tr>\n",
       "      <th>264525</th>\n",
       "      <td>a $5-10 million</td>\n",
       "      <td>DONOVAN MARINE INC</td>\n",
       "      <td>6316 HUMPHREYS STREET</td>\n",
       "      <td>NEW ORLEANS</td>\n",
       "      <td>LA</td>\n",
       "      <td>70123.0</td>\n",
       "      <td>423860.0</td>\n",
       "      <td>Corporation</td>\n",
       "      <td>Unanswered</td>\n",
       "      <td>Unanswered</td>\n",
       "      <td>Unanswered</td>\n",
       "      <td>NaN</td>\n",
       "      <td>442.0</td>\n",
       "      <td>04/10/2020</td>\n",
       "      <td>IBERIABANK</td>\n",
       "      <td>LA - 01</td>\n",
       "      <td>423860</td>\n",
       "      <td>6316 HUMPHREYS STREET NEW ORLEANS LA 70123.0</td>\n",
       "      <td>{'address_components': [{'long_name': '6316', ...</td>\n",
       "    </tr>\n",
       "    <tr>\n",
       "      <th>264526</th>\n",
       "      <td>a $5-10 million</td>\n",
       "      <td>DOYLE LAND SERVICES INC</td>\n",
       "      <td>400 POYDRAS STREET SUITE 1600</td>\n",
       "      <td>NEW ORLEANS</td>\n",
       "      <td>LA</td>\n",
       "      <td>70130.0</td>\n",
       "      <td>541199.0</td>\n",
       "      <td>Corporation</td>\n",
       "      <td>Unanswered</td>\n",
       "      <td>Unanswered</td>\n",
       "      <td>Unanswered</td>\n",
       "      <td>NaN</td>\n",
       "      <td>175.0</td>\n",
       "      <td>04/08/2020</td>\n",
       "      <td>IBERIABANK</td>\n",
       "      <td>LA - 02</td>\n",
       "      <td>541199</td>\n",
       "      <td>400 POYDRAS STREET SUITE 1600 NEW ORLEANS LA 7...</td>\n",
       "      <td>{'address_components': [{'long_name': '1600', ...</td>\n",
       "    </tr>\n",
       "  </tbody>\n",
       "</table>\n",
       "</div>"
      ],
      "text/plain": [
       "              LoanRange             BusinessName  \\\n",
       "264508  a $5-10 million      ADAMS AND REESE LLP   \n",
       "264512  a $5-10 million  AUTO-CHLOR SERVICES LLC   \n",
       "264518  a $5-10 million     COLLEGIATE ACADEMIES   \n",
       "264525  a $5-10 million       DONOVAN MARINE INC   \n",
       "264526  a $5-10 million  DOYLE LAND SERVICES INC   \n",
       "\n",
       "                              Address         City State      Zip  NAICSCode  \\\n",
       "264508        701 Poydras St Ste 4500  NEW ORLEANS    LA  70139.0   541110.0   \n",
       "264512                   500 DAKIN ST  NEW ORLEANS    LA  70121.0   325611.0   \n",
       "264518                 2625 THALIA ST  NEW ORLEANS    LA  70113.0   611110.0   \n",
       "264525          6316 HUMPHREYS STREET  NEW ORLEANS    LA  70123.0   423860.0   \n",
       "264526  400 POYDRAS STREET SUITE 1600  NEW ORLEANS    LA  70130.0   541199.0   \n",
       "\n",
       "                           BusinessType RaceEthnicity      Gender     Veteran  \\\n",
       "264508    Limited Liability Partnership    Unanswered  Unanswered  Unanswered   \n",
       "264512  Limited  Liability Company(LLC)    Unanswered  Unanswered  Unanswered   \n",
       "264518          Non-Profit Organization    Unanswered  Unanswered  Unanswered   \n",
       "264525                      Corporation    Unanswered  Unanswered  Unanswered   \n",
       "264526                      Corporation    Unanswered  Unanswered  Unanswered   \n",
       "\n",
       "       NonProfit  JobsRetained DateApproved                          Lender  \\\n",
       "264508       NaN         458.0   04/13/2020                    Regions Bank   \n",
       "264512       NaN         370.0   04/09/2020                      IBERIABANK   \n",
       "264518         Y         445.0   04/10/2020  Liberty Bank and Trust Company   \n",
       "264525       NaN         442.0   04/10/2020                      IBERIABANK   \n",
       "264526       NaN         175.0   04/08/2020                      IBERIABANK   \n",
       "\n",
       "             CD  NAICSCode_int  \\\n",
       "264508  LA - 02         541110   \n",
       "264512  LA - 01         325611   \n",
       "264518  LA - 02         611110   \n",
       "264525  LA - 01         423860   \n",
       "264526  LA - 02         541199   \n",
       "\n",
       "                                             full_address  \\\n",
       "264508     701 Poydras St Ste 4500 NEW ORLEANS LA 70139.0   \n",
       "264512                500 DAKIN ST NEW ORLEANS LA 70121.0   \n",
       "264518              2625 THALIA ST NEW ORLEANS LA 70113.0   \n",
       "264525       6316 HUMPHREYS STREET NEW ORLEANS LA 70123.0   \n",
       "264526  400 POYDRAS STREET SUITE 1600 NEW ORLEANS LA 7...   \n",
       "\n",
       "                                                  request  \n",
       "264508  {'address_components': [{'long_name': '4500', ...  \n",
       "264512  {'address_components': [{'long_name': '500', '...  \n",
       "264518  {'address_components': [{'long_name': '2625', ...  \n",
       "264525  {'address_components': [{'long_name': '6316', ...  \n",
       "264526  {'address_components': [{'long_name': '1600', ...  "
      ]
     },
     "execution_count": 166,
     "metadata": {},
     "output_type": "execute_result"
    }
   ],
   "source": [
    "nola.head()"
   ]
  },
  {
   "cell_type": "code",
   "execution_count": 174,
   "metadata": {},
   "outputs": [
    {
     "name": "stdout",
     "output_type": "stream",
     "text": [
      "subpremise 4500\n",
      "premise One Shell Square\n",
      "street_number 701\n",
      "route Poydras Street\n",
      "neighborhood Central Business District\n",
      "locality New Orleans\n",
      "administrative_area_level_2 Orleans Parish\n",
      "administrative_area_level_1 Louisiana\n",
      "country United States\n",
      "postal_code 70139\n"
     ]
    }
   ],
   "source": [
    "for entry in nola.iloc[0]['request']['address_components']:\n",
    "    df = pd.DataFrame()\n",
    "    print(entry['types'][0], entry['long_name'])"
   ]
  },
  {
   "cell_type": "code",
   "execution_count": 176,
   "metadata": {},
   "outputs": [
    {
     "data": {
      "text/plain": [
       "dict_keys(['address_components', 'formatted_address', 'geometry', 'place_id', 'types'])"
      ]
     },
     "execution_count": 176,
     "metadata": {},
     "output_type": "execute_result"
    }
   ],
   "source": [
    "nola.iloc[0]['request'].keys()"
   ]
  },
  {
   "cell_type": "code",
   "execution_count": 181,
   "metadata": {},
   "outputs": [
    {
     "data": {
      "text/plain": [
       "{'lat': 29.9503038, 'lng': -90.0713499}"
      ]
     },
     "execution_count": 181,
     "metadata": {},
     "output_type": "execute_result"
    }
   ],
   "source": [
    "nola.iloc[0]['request']['geometry']['location']"
   ]
  },
  {
   "cell_type": "code",
   "execution_count": 243,
   "metadata": {},
   "outputs": [
    {
     "data": {
      "text/html": [
       "<div>\n",
       "<style scoped>\n",
       "    .dataframe tbody tr th:only-of-type {\n",
       "        vertical-align: middle;\n",
       "    }\n",
       "\n",
       "    .dataframe tbody tr th {\n",
       "        vertical-align: top;\n",
       "    }\n",
       "\n",
       "    .dataframe thead th {\n",
       "        text-align: right;\n",
       "    }\n",
       "</style>\n",
       "<table border=\"1\" class=\"dataframe\">\n",
       "  <thead>\n",
       "    <tr style=\"text-align: right;\">\n",
       "      <th></th>\n",
       "      <th>address_components</th>\n",
       "      <th>formatted_address</th>\n",
       "      <th>place_id</th>\n",
       "      <th>types</th>\n",
       "      <th>geometry.bounds.northeast.lat</th>\n",
       "      <th>geometry.bounds.northeast.lng</th>\n",
       "      <th>geometry.bounds.southwest.lat</th>\n",
       "      <th>geometry.bounds.southwest.lng</th>\n",
       "      <th>geometry.location.lat</th>\n",
       "      <th>geometry.location.lng</th>\n",
       "      <th>geometry.location_type</th>\n",
       "      <th>geometry.viewport.northeast.lat</th>\n",
       "      <th>geometry.viewport.northeast.lng</th>\n",
       "      <th>geometry.viewport.southwest.lat</th>\n",
       "      <th>geometry.viewport.southwest.lng</th>\n",
       "    </tr>\n",
       "  </thead>\n",
       "  <tbody>\n",
       "    <tr>\n",
       "      <th>0</th>\n",
       "      <td>[{'long_name': '4500', 'short_name': '4500', '...</td>\n",
       "      <td>One Shell Square, 701 Poydras St #4500, New Or...</td>\n",
       "      <td>EkJPbmUgU2hlbGwgU3F1YXJlLCA3MDEgUG95ZHJhcyBTdC...</td>\n",
       "      <td>[subpremise]</td>\n",
       "      <td>29.9507</td>\n",
       "      <td>-90.070402</td>\n",
       "      <td>29.949859</td>\n",
       "      <td>-90.071706</td>\n",
       "      <td>29.950304</td>\n",
       "      <td>-90.07135</td>\n",
       "      <td>ROOFTOP</td>\n",
       "      <td>29.951629</td>\n",
       "      <td>-90.069705</td>\n",
       "      <td>29.948931</td>\n",
       "      <td>-90.072403</td>\n",
       "    </tr>\n",
       "  </tbody>\n",
       "</table>\n",
       "</div>"
      ],
      "text/plain": [
       "                                  address_components  \\\n",
       "0  [{'long_name': '4500', 'short_name': '4500', '...   \n",
       "\n",
       "                                   formatted_address  \\\n",
       "0  One Shell Square, 701 Poydras St #4500, New Or...   \n",
       "\n",
       "                                            place_id         types  \\\n",
       "0  EkJPbmUgU2hlbGwgU3F1YXJlLCA3MDEgUG95ZHJhcyBTdC...  [subpremise]   \n",
       "\n",
       "   geometry.bounds.northeast.lat  geometry.bounds.northeast.lng  \\\n",
       "0                        29.9507                     -90.070402   \n",
       "\n",
       "   geometry.bounds.southwest.lat  geometry.bounds.southwest.lng  \\\n",
       "0                      29.949859                     -90.071706   \n",
       "\n",
       "   geometry.location.lat  geometry.location.lng geometry.location_type  \\\n",
       "0              29.950304              -90.07135                ROOFTOP   \n",
       "\n",
       "   geometry.viewport.northeast.lat  geometry.viewport.northeast.lng  \\\n",
       "0                        29.951629                       -90.069705   \n",
       "\n",
       "   geometry.viewport.southwest.lat  geometry.viewport.southwest.lng  \n",
       "0                        29.948931                       -90.072403  "
      ]
     },
     "execution_count": 243,
     "metadata": {},
     "output_type": "execute_result"
    }
   ],
   "source": [
    "df = pd.json_normalize(nola.iloc[0]['request'])\n",
    "df"
   ]
  },
  {
   "cell_type": "code",
   "execution_count": 239,
   "metadata": {},
   "outputs": [
    {
     "data": {
      "text/html": [
       "<div>\n",
       "<style scoped>\n",
       "    .dataframe tbody tr th:only-of-type {\n",
       "        vertical-align: middle;\n",
       "    }\n",
       "\n",
       "    .dataframe tbody tr th {\n",
       "        vertical-align: top;\n",
       "    }\n",
       "\n",
       "    .dataframe thead th {\n",
       "        text-align: right;\n",
       "    }\n",
       "</style>\n",
       "<table border=\"1\" class=\"dataframe\">\n",
       "  <thead>\n",
       "    <tr style=\"text-align: right;\">\n",
       "      <th>types_2</th>\n",
       "      <th>subpremise</th>\n",
       "      <th>premise</th>\n",
       "      <th>street_number</th>\n",
       "      <th>route</th>\n",
       "      <th>neighborhood</th>\n",
       "      <th>locality</th>\n",
       "      <th>administrative_area_level_2</th>\n",
       "      <th>administrative_area_level_1</th>\n",
       "      <th>country</th>\n",
       "      <th>postal_code</th>\n",
       "    </tr>\n",
       "  </thead>\n",
       "  <tbody>\n",
       "    <tr>\n",
       "      <th>long_name</th>\n",
       "      <td>4500</td>\n",
       "      <td>One Shell Square</td>\n",
       "      <td>701</td>\n",
       "      <td>Poydras Street</td>\n",
       "      <td>Central Business District</td>\n",
       "      <td>New Orleans</td>\n",
       "      <td>Orleans Parish</td>\n",
       "      <td>Louisiana</td>\n",
       "      <td>United States</td>\n",
       "      <td>70139</td>\n",
       "    </tr>\n",
       "  </tbody>\n",
       "</table>\n",
       "</div>"
      ],
      "text/plain": [
       "types_2   subpremise           premise street_number           route  \\\n",
       "long_name       4500  One Shell Square           701  Poydras Street   \n",
       "\n",
       "types_2                 neighborhood     locality administrative_area_level_2  \\\n",
       "long_name  Central Business District  New Orleans              Orleans Parish   \n",
       "\n",
       "types_2   administrative_area_level_1        country postal_code  \n",
       "long_name                   Louisiana  United States       70139  "
      ]
     },
     "execution_count": 239,
     "metadata": {},
     "output_type": "execute_result"
    }
   ],
   "source": [
    "#data = json.loads(nola.iloc[0]['request'])\n",
    "df = pd.json_normalize(nola.iloc[0]['request']['address_components'])\n",
    "df['types_2'] = df['types'].apply(lambda x: x[0])\n",
    "df = df.T\n",
    "df.columns = df.loc['types_2']\n",
    "df.loc[['long_name']]"
   ]
  },
  {
   "cell_type": "code",
   "execution_count": null,
   "metadata": {},
   "outputs": [],
   "source": []
  },
  {
   "cell_type": "code",
   "execution_count": null,
   "metadata": {},
   "outputs": [],
   "source": []
  },
  {
   "cell_type": "code",
   "execution_count": null,
   "metadata": {
    "collapsed": true
   },
   "outputs": [],
   "source": []
  },
  {
   "cell_type": "code",
   "execution_count": null,
   "metadata": {
    "collapsed": true
   },
   "outputs": [],
   "source": []
  },
  {
   "cell_type": "code",
   "execution_count": null,
   "metadata": {
    "collapsed": true
   },
   "outputs": [],
   "source": []
  },
  {
   "cell_type": "code",
   "execution_count": null,
   "metadata": {
    "collapsed": true
   },
   "outputs": [],
   "source": []
  },
  {
   "cell_type": "code",
   "execution_count": null,
   "metadata": {
    "collapsed": true
   },
   "outputs": [],
   "source": []
  },
  {
   "cell_type": "code",
   "execution_count": null,
   "metadata": {
    "collapsed": true
   },
   "outputs": [],
   "source": [
    "## Francisco recommends:\n",
    "##    folium"
   ]
  }
 ],
 "metadata": {
  "kernelspec": {
   "display_name": "Python 3",
   "language": "python",
   "name": "python3"
  },
  "language_info": {
   "codemirror_mode": {
    "name": "ipython",
    "version": 3
   },
   "file_extension": ".py",
   "mimetype": "text/x-python",
   "name": "python",
   "nbconvert_exporter": "python",
   "pygments_lexer": "ipython3",
   "version": "3.6.2"
  }
 },
 "nbformat": 4,
 "nbformat_minor": 2
}
